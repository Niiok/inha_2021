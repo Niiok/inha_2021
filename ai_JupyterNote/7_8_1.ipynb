{
 "cells": [
  {
   "cell_type": "code",
   "execution_count": 1,
   "id": "5068e890",
   "metadata": {},
   "outputs": [],
   "source": [
    "import torch\n",
    "import torchvision.datasets as dsets\n",
    "import torchvision.transforms as transforms\n",
    "import matplotlib.pyplot as plt\n",
    "import random"
   ]
  },
  {
   "cell_type": "code",
   "execution_count": 2,
   "id": "2201485a",
   "metadata": {},
   "outputs": [],
   "source": [
    "device = 'cuda' if torch.cuda.is_available() else 'cpu'\n",
    "\n",
    "random.seed(777)\n",
    "torch.manual_seed(777)\n",
    "if device == 'cuda':\n",
    "    torch.cuda.manual_seed_all(777)"
   ]
  },
  {
   "cell_type": "code",
   "execution_count": 3,
   "id": "16c4316c",
   "metadata": {},
   "outputs": [],
   "source": [
    "training_epochs = 15\n",
    "batch_size = 100"
   ]
  },
  {
   "cell_type": "code",
   "execution_count": 4,
   "id": "b1f5385a",
   "metadata": {},
   "outputs": [
    {
     "name": "stdout",
     "output_type": "stream",
     "text": [
      "cpu\n"
     ]
    }
   ],
   "source": [
    "print(device)"
   ]
  },
  {
   "cell_type": "code",
   "execution_count": 5,
   "id": "c93fec19",
   "metadata": {},
   "outputs": [],
   "source": [
    "training_epoch = 150\n",
    "batch_size = 100"
   ]
  },
  {
   "cell_type": "code",
   "execution_count": 6,
   "id": "9a5c046d",
   "metadata": {},
   "outputs": [
    {
     "name": "stderr",
     "output_type": "stream",
     "text": [
      "C:\\Users\\Admin\\anaconda3\\lib\\site-packages\\torchvision\\datasets\\mnist.py:498: UserWarning: The given NumPy array is not writeable, and PyTorch does not support non-writeable tensors. This means you can write to the underlying (supposedly non-writeable) NumPy array using the tensor. You may want to copy the array to protect its data or make it writeable before converting it to a tensor. This type of warning will be suppressed for the rest of this program. (Triggered internally at  ..\\torch\\csrc\\utils\\tensor_numpy.cpp:180.)\n",
      "  return torch.from_numpy(parsed.astype(m[2], copy=False)).view(*s)\n"
     ]
    }
   ],
   "source": [
    "mnist_train = dsets.MNIST(root='MNIST_data/', \n",
    "                         train=True,\n",
    "                         transform=transforms.ToTensor(),\n",
    "                         download=True)\n",
    "\n",
    "mnist_test = dsets.MNIST(root='MNIST_data/',\n",
    "                        train=False,\n",
    "                        transform=transforms.ToTensor(),\n",
    "                        download=True)"
   ]
  },
  {
   "cell_type": "code",
   "execution_count": 7,
   "id": "6c7df34d",
   "metadata": {},
   "outputs": [],
   "source": [
    "data_loader = torch.utils.data.DataLoader(dataset=mnist_train,\n",
    "                                               batch_size=batch_size,\n",
    "                                               shuffle=True,\n",
    "                                               drop_last=True)"
   ]
  },
  {
   "cell_type": "code",
   "execution_count": 8,
   "id": "6b19e48b",
   "metadata": {},
   "outputs": [],
   "source": [
    "linear = torch.nn.Linear(784, 10, bias=True).to(device)"
   ]
  },
  {
   "cell_type": "code",
   "execution_count": 9,
   "id": "458898fd",
   "metadata": {},
   "outputs": [],
   "source": [
    "criterion = torch.nn.CrossEntropyLoss().to(device)\n",
    "optimizer = torch.optim.SGD(linear.parameters(), lr=0.1)"
   ]
  },
  {
   "cell_type": "code",
   "execution_count": 10,
   "id": "4e4cb203",
   "metadata": {},
   "outputs": [
    {
     "name": "stdout",
     "output_type": "stream",
     "text": [
      "Epoch :  0001 cost -  0.535150588\n",
      "Epoch :  0002 cost -  0.359577745\n",
      "Epoch :  0003 cost -  0.331264287\n",
      "Epoch :  0004 cost -  0.316404700\n",
      "Epoch :  0005 cost -  0.307106972\n",
      "Epoch :  0006 cost -  0.300456554\n",
      "Epoch :  0007 cost -  0.294933408\n",
      "Epoch :  0008 cost -  0.290956199\n",
      "Epoch :  0009 cost -  0.287074089\n",
      "Epoch :  0010 cost -  0.284515619\n",
      "Epoch :  0011 cost -  0.281914055\n",
      "Epoch :  0012 cost -  0.279526860\n",
      "Epoch :  0013 cost -  0.277636588\n",
      "Epoch :  0014 cost -  0.275874794\n",
      "Epoch :  0015 cost -  0.274422705\n",
      "Epoch :  0016 cost -  0.272883654\n",
      "Epoch :  0017 cost -  0.271629602\n",
      "Epoch :  0018 cost -  0.270609766\n",
      "Epoch :  0019 cost -  0.269295007\n",
      "Epoch :  0020 cost -  0.268277317\n",
      "Epoch :  0021 cost -  0.267255515\n",
      "Epoch :  0022 cost -  0.266613424\n",
      "Epoch :  0023 cost -  0.265661389\n",
      "Epoch :  0024 cost -  0.264922321\n",
      "Epoch :  0025 cost -  0.263888687\n",
      "Epoch :  0026 cost -  0.263269812\n",
      "Epoch :  0027 cost -  0.262586147\n",
      "Epoch :  0028 cost -  0.261751622\n",
      "Epoch :  0029 cost -  0.261135846\n",
      "Epoch :  0030 cost -  0.260536909\n",
      "Epoch :  0031 cost -  0.260275453\n",
      "Epoch :  0032 cost -  0.259709179\n",
      "Epoch :  0033 cost -  0.258947164\n",
      "Epoch :  0034 cost -  0.258617967\n",
      "Epoch :  0035 cost -  0.258048773\n",
      "Epoch :  0036 cost -  0.257542849\n",
      "Epoch :  0037 cost -  0.257166445\n",
      "Epoch :  0038 cost -  0.256698698\n",
      "Epoch :  0039 cost -  0.256314307\n",
      "Epoch :  0040 cost -  0.255765826\n",
      "Epoch :  0041 cost -  0.255531222\n",
      "Epoch :  0042 cost -  0.254914343\n",
      "Epoch :  0043 cost -  0.254686475\n",
      "Epoch :  0044 cost -  0.254367441\n",
      "Epoch :  0045 cost -  0.254017055\n",
      "Epoch :  0046 cost -  0.253749490\n",
      "Epoch :  0047 cost -  0.253456116\n",
      "Epoch :  0048 cost -  0.252950639\n",
      "Epoch :  0049 cost -  0.252728999\n",
      "Epoch :  0050 cost -  0.252436072\n",
      "Epoch :  0051 cost -  0.252046257\n",
      "Epoch :  0052 cost -  0.251570135\n",
      "Epoch :  0053 cost -  0.251367390\n",
      "Epoch :  0054 cost -  0.251246393\n",
      "Epoch :  0055 cost -  0.251039445\n",
      "Epoch :  0056 cost -  0.250813067\n",
      "Epoch :  0057 cost -  0.250423998\n",
      "Epoch :  0058 cost -  0.250028551\n",
      "Epoch :  0059 cost -  0.250024080\n",
      "Epoch :  0060 cost -  0.249758005\n",
      "Epoch :  0061 cost -  0.249497846\n",
      "Epoch :  0062 cost -  0.249265134\n",
      "Epoch :  0063 cost -  0.248886317\n",
      "Epoch :  0064 cost -  0.248696923\n",
      "Epoch :  0065 cost -  0.248614609\n",
      "Epoch :  0066 cost -  0.248439044\n",
      "Epoch :  0067 cost -  0.248139083\n",
      "Epoch :  0068 cost -  0.247835383\n",
      "Epoch :  0069 cost -  0.247658968\n",
      "Epoch :  0070 cost -  0.247397602\n",
      "Epoch :  0071 cost -  0.247249588\n",
      "Epoch :  0072 cost -  0.247079358\n",
      "Epoch :  0073 cost -  0.246945262\n",
      "Epoch :  0074 cost -  0.246686921\n",
      "Epoch :  0075 cost -  0.246687844\n",
      "Epoch :  0076 cost -  0.246303067\n",
      "Epoch :  0077 cost -  0.246110260\n",
      "Epoch :  0078 cost -  0.246067807\n",
      "Epoch :  0079 cost -  0.245769814\n",
      "Epoch :  0080 cost -  0.245565921\n",
      "Epoch :  0081 cost -  0.245506629\n",
      "Epoch :  0082 cost -  0.245446175\n",
      "Epoch :  0083 cost -  0.245212108\n",
      "Epoch :  0084 cost -  0.244949400\n",
      "Epoch :  0085 cost -  0.244855210\n",
      "Epoch :  0086 cost -  0.244703382\n",
      "Epoch :  0087 cost -  0.244637087\n",
      "Epoch :  0088 cost -  0.244337350\n",
      "Epoch :  0089 cost -  0.244136721\n",
      "Epoch :  0090 cost -  0.244086936\n",
      "Epoch :  0091 cost -  0.243965819\n",
      "Epoch :  0092 cost -  0.243704528\n",
      "Epoch :  0093 cost -  0.243614838\n",
      "Epoch :  0094 cost -  0.243434399\n",
      "Epoch :  0095 cost -  0.243306994\n",
      "Epoch :  0096 cost -  0.243146703\n",
      "Epoch :  0097 cost -  0.243119434\n",
      "Epoch :  0098 cost -  0.243019551\n",
      "Epoch :  0099 cost -  0.242854834\n",
      "Epoch :  0100 cost -  0.242440462\n",
      "Epoch :  0101 cost -  0.242485285\n",
      "Epoch :  0102 cost -  0.242531404\n",
      "Epoch :  0103 cost -  0.242235854\n",
      "Epoch :  0104 cost -  0.242178962\n",
      "Epoch :  0105 cost -  0.242183715\n",
      "Epoch :  0106 cost -  0.242024839\n",
      "Epoch :  0107 cost -  0.241855875\n",
      "Epoch :  0108 cost -  0.241610572\n",
      "Epoch :  0109 cost -  0.241690993\n",
      "Epoch :  0110 cost -  0.241385773\n",
      "Epoch :  0111 cost -  0.241549268\n",
      "Epoch :  0112 cost -  0.241259933\n",
      "Epoch :  0113 cost -  0.240937620\n",
      "Epoch :  0114 cost -  0.240986571\n",
      "Epoch :  0115 cost -  0.241055250\n",
      "Epoch :  0116 cost -  0.240767628\n",
      "Epoch :  0117 cost -  0.240763351\n",
      "Epoch :  0118 cost -  0.240597770\n",
      "Epoch :  0119 cost -  0.240632161\n",
      "Epoch :  0120 cost -  0.240307793\n",
      "Epoch :  0121 cost -  0.240453154\n",
      "Epoch :  0122 cost -  0.240118399\n",
      "Epoch :  0123 cost -  0.240025714\n",
      "Epoch :  0124 cost -  0.240022674\n",
      "Epoch :  0125 cost -  0.239896789\n",
      "Epoch :  0126 cost -  0.239904359\n",
      "Epoch :  0127 cost -  0.239812180\n",
      "Epoch :  0128 cost -  0.239635989\n",
      "Epoch :  0129 cost -  0.239489347\n",
      "Epoch :  0130 cost -  0.239438117\n",
      "Epoch :  0131 cost -  0.239176363\n",
      "Epoch :  0132 cost -  0.239322230\n",
      "Epoch :  0133 cost -  0.239067242\n",
      "Epoch :  0134 cost -  0.239143059\n",
      "Epoch :  0135 cost -  0.239009514\n",
      "Epoch :  0136 cost -  0.238826245\n",
      "Epoch :  0137 cost -  0.239031941\n",
      "Epoch :  0138 cost -  0.238673016\n",
      "Epoch :  0139 cost -  0.238776490\n",
      "Epoch :  0140 cost -  0.238523960\n",
      "Epoch :  0141 cost -  0.238378793\n",
      "Epoch :  0142 cost -  0.238539502\n",
      "Epoch :  0143 cost -  0.238338217\n",
      "Epoch :  0144 cost -  0.238172293\n",
      "Epoch :  0145 cost -  0.238282233\n",
      "Epoch :  0146 cost -  0.238083094\n",
      "Epoch :  0147 cost -  0.237836704\n",
      "Epoch :  0148 cost -  0.237935349\n",
      "Epoch :  0149 cost -  0.237811163\n",
      "Epoch :  0150 cost -  0.237790525\n",
      "Learning finished\n"
     ]
    }
   ],
   "source": [
    "for epoch in range(training_epoch):\n",
    "    avg_cost = 0\n",
    "    total_batch = len(data_loader)\n",
    "    \n",
    "    for X, Y in data_loader:\n",
    "        X = X.view(-1, 28 * 28).to(device)\n",
    "        Y - Y.to(device)\n",
    "        \n",
    "        optimizer.zero_grad()\n",
    "        hypothesis = linear(X)\n",
    "        cost = criterion(hypothesis, Y)\n",
    "        cost.backward()\n",
    "        optimizer.step()\n",
    "        \n",
    "        avg_cost += cost/total_batch\n",
    "        \n",
    "    print('Epoch : ', '%04d' % (epoch + 1), 'cost - ', '{:.9f}'.format(avg_cost))\n",
    "    \n",
    "print('Learning finished')"
   ]
  },
  {
   "cell_type": "code",
   "execution_count": 13,
   "id": "64f3fdff",
   "metadata": {},
   "outputs": [
    {
     "name": "stdout",
     "output_type": "stream",
     "text": [
      "Accuracy :  0.8719000220298767\n",
      "Label :  7\n",
      "Prediction :  7\n"
     ]
    },
    {
     "data": {
      "image/png": "[encoded data removed]",
      "text/plain": [
       "<Figure size 432x288 with 1 Axes>"
      ]
     },
     "metadata": {
      "needs_background": "light"
     },
     "output_type": "display_data"
    }
   ],
   "source": [
    "with torch.no_grad():\n",
    "    X_test = mnist_test.test_data.view(-1, 28 * 28).float().to(device)\n",
    "    Y_test = mnist_test.test_labels.to(device)\n",
    "    \n",
    "    prediction = linear(X_test)\n",
    "    correct_prediction = torch.argmax(prediction, 1) == Y_test\n",
    "    accuracy = correct_prediction.float().mean()\n",
    "    print('Accuracy : ', accuracy.item())\n",
    "    \n",
    "    r = random.randint(0, len(mnist_test)-1)\n",
    "    X_single_data = mnist_test.test_data[r:r+1].view(-1, 28 * 28).float().to(device)\n",
    "    Y_single_data = mnist_test.test_labels[r:r+1].to(device)\n",
    "    \n",
    "    print('Label : ', Y_single_data.item())\n",
    "    single_prediction = linear(X_single_data)\n",
    "    print('Prediction : ', torch.argmax(single_prediction, 1).item())\n",
    "    \n",
    "    plt.imshow(mnist_test.test_data[r:r+1].view(28, 28), cmap='Greys', interpolation='nearest')\n",
    "    plt.show()"
   ]
  },
  {
   "cell_type": "code",
   "execution_count": null,
   "id": "f8aeef2e",
   "metadata": {},
   "outputs": [],
   "source": []
  }
 ],
 "metadata": {
  "kernelspec": {
   "display_name": "Python 3",
   "language": "python",
   "name": "python3"
  },
  "language_info": {
   "codemirror_mode": {
    "name": "ipython",
    "version": 3
   },
   "file_extension": ".py",
   "mimetype": "text/x-python",
   "name": "python",
   "nbconvert_exporter": "python",
   "pygments_lexer": "ipython3",
   "version": "3.8.8"
  }
 },
 "nbformat": 4,
 "nbformat_minor": 5
}
